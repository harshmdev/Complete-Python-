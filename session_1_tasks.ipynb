{
  "nbformat": 4,
  "nbformat_minor": 0,
  "metadata": {
    "colab": {
      "provenance": [],
      "include_colab_link": true
    },
    "kernelspec": {
      "name": "python3",
      "display_name": "Python 3"
    },
    "language_info": {
      "name": "python"
    }
  },
  "cells": [
    {
      "cell_type": "markdown",
      "metadata": {
        "id": "view-in-github",
        "colab_type": "text"
      },
      "source": [
        "<a href=\"https://colab.research.google.com/github/harshmdev/Complete-Python-/blob/main/session_1_tasks.ipynb\" target=\"_parent\"><img src=\"https://colab.research.google.com/assets/colab-badge.svg\" alt=\"Open In Colab\"/></a>"
      ]
    },
    {
      "cell_type": "markdown",
      "source": [
        "# Task : Session 1\n",
        "Solve these questions own your own and try to test yourself what you have learned in the session.\n",
        "\n",
        "Happy Learning!"
      ],
      "metadata": {
        "id": "A05OG15VqOPF"
      }
    },
    {
      "cell_type": "markdown",
      "source": [
        "### Q1 :- Print the given strings as per stated format.\n",
        "\n",
        "**Given strings**: \n",
        "```\n",
        "\"Data\" \"Science\" \"Mentorship\" \"Program\" \n",
        "\"By\" \"CampusX\"\n",
        "```\n",
        "**Output**: \n",
        "``` \n",
        "Data-Science-Mentorship-Program-started-By-CampusX\n",
        "```\n",
        "\n",
        "Concept- [Seperator and End]"
      ],
      "metadata": {
        "id": "2doIXf8bqe9_"
      }
    },
    {
      "cell_type": "code",
      "source": [
        "# Write your code here\n",
        "print(\"Data\",\"Science\",\"Mentorship\",\"Program\",\"started\",\"by\",\"campusx\",sep=\"-\",end=\"\")"
      ],
      "metadata": {
        "id": "-em6d3KErDtp",
        "colab": {
          "base_uri": "https://localhost:8080/"
        },
        "outputId": "bd3c3051-06a8-4025-fdfd-e4abffb67457"
      },
      "execution_count": 2,
      "outputs": [
        {
          "output_type": "stream",
          "name": "stdout",
          "text": [
            "Data-Science-Mentorship-Program-started-by-campusx"
          ]
        }
      ]
    },
    {
      "cell_type": "markdown",
      "source": [
        "### Q2:- Write a program that will convert celsius value to fahrenheit."
      ],
      "metadata": {
        "id": "1KUpN7ZTrC3_"
      }
    },
    {
      "cell_type": "code",
      "source": [
        "# Write your code here\n",
        "var_cel=float(input(\"Enter a value in celcius : \"))\n",
        "var_faren= (var_cel*9/5)+32\n",
        "print(\"temp. in farenheit : \",var_faren)"
      ],
      "metadata": {
        "id": "yxKYhYQiqWfj",
        "colab": {
          "base_uri": "https://localhost:8080/"
        },
        "outputId": "7ff8cef9-2255-490e-b553-db06d6994482"
      },
      "execution_count": null,
      "outputs": [
        {
          "output_type": "stream",
          "name": "stdout",
          "text": [
            "Enter a value in celcius : 5\n",
            "temp. in farenheit :  41.0\n"
          ]
        }
      ]
    },
    {
      "cell_type": "markdown",
      "source": [
        "### Q3:- Take 2 numbers as input from the user.Write a program to swap the numbers without using any special python syntax."
      ],
      "metadata": {
        "id": "RLrOBBJurLB2"
      }
    },
    {
      "cell_type": "code",
      "source": [
        "# Write your code here\n",
        "a=input(\"enter a number : \")\n",
        "b=input(\"enter another number : \")\n",
        "c=a\n",
        "a=b\n",
        "b=c\n",
        "print(a,b)"
      ],
      "metadata": {
        "id": "yPn7if0TrJ4F",
        "colab": {
          "base_uri": "https://localhost:8080/"
        },
        "outputId": "e9a5b39f-110d-4f65-9fb9-d37739f9b9a6"
      },
      "execution_count": null,
      "outputs": [
        {
          "output_type": "stream",
          "name": "stdout",
          "text": [
            "enter a number : 25\n",
            "enter another number : 67\n",
            "67 25\n"
          ]
        }
      ]
    },
    {
      "cell_type": "markdown",
      "source": [
        "### Q4:- Write a program to find the euclidean distance between two coordinates.Take both the coordinates from the user as input."
      ],
      "metadata": {
        "id": "waLCP1bjr7ML"
      }
    },
    {
      "cell_type": "code",
      "source": [
        "# Write your code here\n",
        "import math\n",
        "cord1=int(input(\"enter x1 co-ordinate : \"))\n",
        "cord2=int(input(\"enter y1 co-ordinate : \"))\n",
        "cord3=int(input(\"enter x2 co-ordinate : \"))\n",
        "cord4=int(input(\"enter y2 co-ordinate : \"))\n",
        "x=(cord3-cord1)**2+(cord4-cord2)**2\n",
        "eucli_dist=math.sqrt(x)\n",
        "print(eucli_dist)"
      ],
      "metadata": {
        "id": "Pl1Sv-xnrxnH",
        "colab": {
          "base_uri": "https://localhost:8080/"
        },
        "outputId": "d4b607cd-b003-4b6c-f745-8c61511ac035"
      },
      "execution_count": null,
      "outputs": [
        {
          "output_type": "stream",
          "name": "stdout",
          "text": [
            "enter x1 co-ordinate : 2\n",
            "enter y1 co-ordinate : 3\n",
            "enter x2 co-ordinate : 5\n",
            "enter y2 co-ordinate : 7\n",
            "5.0\n"
          ]
        }
      ]
    },
    {
      "cell_type": "markdown",
      "source": [
        "### Q5:- Write a program to find the simple interest when the value of principle,rate of interest and time period is provided by the user.\n"
      ],
      "metadata": {
        "id": "VLrhg-FRsHjR"
      }
    },
    {
      "cell_type": "code",
      "source": [
        "# Write your code here\n",
        "principal=int(input(\"enter principal amount : \"))\n",
        "rate=int(input(\"enter rate of interest(in percentage) : \"))\n",
        "time=int(input(\"enter time in years : \"))\n",
        "si=(principal*rate*time)/100\n",
        "print(si)\n"
      ],
      "metadata": {
        "id": "s40DlReZsTmY",
        "colab": {
          "base_uri": "https://localhost:8080/"
        },
        "outputId": "46ccb048-4564-4dee-d455-10d3251e4c5c"
      },
      "execution_count": null,
      "outputs": [
        {
          "output_type": "stream",
          "name": "stdout",
          "text": [
            "enter principal amount : 100\n",
            "enter rate of interest(in percentage) : 10\n",
            "enter time in years : 10\n",
            "100.0\n"
          ]
        }
      ]
    },
    {
      "cell_type": "markdown",
      "source": [
        "### Q6:- Write a program that will tell the number of dogs and chicken are there when the user will provide the value of total heads and legs.\n",
        "\n",
        "For example:\n",
        "Input:\n",
        "heads -> 4\n",
        "legs -> 12\n",
        "<br>\n",
        "Output:\n",
        "dogs -> 2\n",
        "chicken -> 2\n",
        "\n",
        "\n",
        "\n"
      ],
      "metadata": {
        "id": "LMy0BTUktYKa"
      }
    },
    {
      "cell_type": "code",
      "source": [
        "# Write your code here\n",
        "a=int(input(\"number of heads : \"))\n",
        "b=int(input(\"number of legs : \"))\n",
        "dogs=b/2-a\n",
        "chickens=a-dogs\n",
        "print(\"no. of heads of dogs are \",dogs)\n",
        "print(\"no. of heads of chickens are \",chickens)"
      ],
      "metadata": {
        "id": "XSBvJoA4tXaG",
        "colab": {
          "base_uri": "https://localhost:8080/"
        },
        "outputId": "70cecbfa-a881-4722-cf4b-90a17bac7272"
      },
      "execution_count": null,
      "outputs": [
        {
          "output_type": "stream",
          "name": "stdout",
          "text": [
            "number of heads : 4\n",
            "number of legs : 12\n",
            "no. of heads of dogs are  2.0\n",
            "no. of heads of chickens are  2.0\n"
          ]
        }
      ]
    },
    {
      "cell_type": "markdown",
      "source": [
        "### Q7:- Write a program to find the sum of squares of first n natural numbers where n will be provided by the user."
      ],
      "metadata": {
        "id": "gJ7C5kZYt4BP"
      }
    },
    {
      "cell_type": "code",
      "source": [
        "# Write your code here\n",
        "n=int(input(\"Enter a number :\"))\n",
        "sum=(n*(n+1)*(n+2))/6\n",
        "print(\"sum of n natural number is :\",sum)"
      ],
      "metadata": {
        "id": "_tHsmEHzt2nX",
        "colab": {
          "base_uri": "https://localhost:8080/"
        },
        "outputId": "162f1dd7-2ba5-41de-8cf3-489821740fab"
      },
      "execution_count": null,
      "outputs": [
        {
          "output_type": "stream",
          "name": "stdout",
          "text": [
            "Enter a number :1\n",
            "sum of n natural number is : 1.0\n"
          ]
        }
      ]
    },
    {
      "cell_type": "markdown",
      "source": [
        "### Q8:- Given the first 2 terms of an Arithmetic Series.Find the Nth term of the series. Assume all inputs are provided by the user."
      ],
      "metadata": {
        "id": "FHrMM7g-yG1h"
      }
    },
    {
      "cell_type": "code",
      "source": [
        "# Write your code here\n",
        "a=int(input(\"enter first element of series : \"))\n",
        "b=int(input(\"enter second element of series : \"))\n",
        "num=int(input(\"enter which element you want to find : \"))\n",
        "c=b-a\n",
        "number=(c*num)+b\n",
        "print(\"the number is \",number)\n",
        "\n"
      ],
      "metadata": {
        "id": "go4_kmZmyVSx",
        "colab": {
          "base_uri": "https://localhost:8080/"
        },
        "outputId": "76b2c575-2233-4f93-e050-5273a5daf1ce"
      },
      "execution_count": null,
      "outputs": [
        {
          "output_type": "stream",
          "name": "stdout",
          "text": [
            "enter first element of series : 1\n",
            "enter second element of series : 2\n",
            "enter which element you want to find : 1\n",
            "the number is  3\n"
          ]
        }
      ]
    },
    {
      "cell_type": "markdown",
      "source": [
        "### Q9:- Given 2 fractions, find the sum of those 2 fractions.Take the numerator and denominator values of the fractions from the user."
      ],
      "metadata": {
        "id": "QgyRX_es1oum"
      }
    },
    {
      "cell_type": "code",
      "source": [
        "# Write your code here\n",
        "a=int(input(\"Enter numerator: \"))\n",
        "b=int(input(\"Enter denominator: \"))\n",
        "c=int(input(\"Enter another numerator: \"))\n",
        "d=int(input(\"Enter another denominator: \"))\n",
        "sum=(((a*d)+(b*c))/(b*d))\n",
        "print(sum)"
      ],
      "metadata": {
        "id": "X05xqFS1yW16",
        "colab": {
          "base_uri": "https://localhost:8080/"
        },
        "outputId": "afeaf028-229a-458e-fc91-a45d4649e93f"
      },
      "execution_count": null,
      "outputs": [
        {
          "output_type": "stream",
          "name": "stdout",
          "text": [
            "Enter numerator: 1\n",
            "Enter denominator: 3\n",
            "Enter another numerator: 2\n",
            "Enter another denominator: 3\n",
            "1.0\n"
          ]
        }
      ]
    },
    {
      "cell_type": "markdown",
      "source": [
        "### Q10:- Given the height, width and breadth of a milk tank, you have to find out how many glasses of milk can be obtained? Assume all the inputs are provided by the user.\n",
        "\n",
        "\n",
        "\n",
        "Input:<br>\n",
        "Dimensions of the milk tank<br>\n",
        "H = 20cm, L = 20cm, B = 20cm\n",
        "<br><br>\n",
        "Dimensions of the glass<br>\n",
        "h = 3cm, r = 1cm"
      ],
      "metadata": {
        "id": "eaql38ln13u7"
      }
    },
    {
      "cell_type": "code",
      "source": [
        "# Write your code here\n",
        "import math\n",
        "tank_h=int(input(\"enter height of tank : \"))\n",
        "tank_l=int(input(\"enter length of tank : \"))\n",
        "tank_b=int(input(\"enter bredth of tank : \"))\n",
        "glass_h=int(input(\"enter height of glass : \"))\n",
        "glass_r=int(input(\"enter radius of tank : \"))\n",
        "vol_tank=tank_h*tank_b*tank_l\n",
        "vol_glass=(math.pi*glass_r**2)*glass_h\n",
        "no_glass=vol_tank/vol_glass\n",
        "print(\"Number of glasess are : \",no_glass)"
      ],
      "metadata": {
        "id": "FePZqno74eWv",
        "colab": {
          "base_uri": "https://localhost:8080/"
        },
        "outputId": "c48f69f6-3412-49a2-ce1d-757d3df9bdb5"
      },
      "execution_count": null,
      "outputs": [
        {
          "output_type": "stream",
          "name": "stdout",
          "text": [
            "enter height of tank : 20\n",
            "enter length of tank : 20\n",
            "enter bredth of tank : 20\n",
            "enter height of glass : 3\n",
            "enter radius of tank : 1\n",
            "Number of glasess are :  848.8263631567752\n"
          ]
        }
      ]
    }
  ]
}